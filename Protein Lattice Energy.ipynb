{
 "cells": [
  {
   "cell_type": "code",
   "execution_count": 1,
   "metadata": {},
   "outputs": [],
   "source": [
    "import math\n",
    "import matplotlib.pyplot as plt\n",
    "import numpy as np\n",
    "import seaborn as sns"
   ]
  },
  {
   "cell_type": "code",
   "execution_count": 44,
   "metadata": {},
   "outputs": [],
   "source": [
    "def plot_dictionary(dictionary):\n",
    "    #use %matplotlib for graph to appear in another screen\n",
    "    %matplotlib inline\n",
    "\n",
    "    #create figure and axes objects\n",
    "    fig,ax = plt.subplots(figsize = (7,7))\n",
    "\n",
    "    #formatting the grid appearance\n",
    "    ax.grid(True);\n",
    "    #ax.set_xlim(0,95);\n",
    "    #ax.set_ylim(0,95);\n",
    "    #ax.set_xticks(np.arange(0,100,5));\n",
    "    #ax.set_yticks(np.arange(0,100,5));\n",
    "    \n",
    "    coordinates = []\n",
    "    for key in dictionary:\n",
    "        coordinates.append(dictionary[key])\n",
    "        \n",
    "    x, y = np.array(coordinates).T\n",
    "\n",
    "    ax.plot(x,y,'bo-')\n",
    "    plt.show()"
   ]
  },
  {
   "cell_type": "code",
   "execution_count": 45,
   "metadata": {},
   "outputs": [],
   "source": [
    "residue = {\n",
    "    0 : [1, 1],\n",
    "    1 : [1, 2],\n",
    "    2 : [1, 3],\n",
    "    3 : [1, 4],\n",
    "    4 : [2, 4],\n",
    "    5 : [2, 3],\n",
    "    6 : [2, 2],\n",
    "    7 : [2, 1],\n",
    "    8 : [3, 1],\n",
    "    9 : [4, 1],\n",
    "    10 : [4, 2],\n",
    "    11 : [3, 2],\n",
    "    12 : [3, 3],\n",
    "    13 : [4, 3],\n",
    "    14 : [4, 4],\n",
    "    15 : [3, 4],\n",
    "}"
   ]
  },
  {
   "cell_type": "code",
   "execution_count": 46,
   "metadata": {},
   "outputs": [
    {
     "data": {
      "image/png": "[encoded data removed]",
      "text/plain": [
       "<Figure size 504x504 with 1 Axes>"
      ]
     },
     "metadata": {
      "needs_background": "light"
     },
     "output_type": "display_data"
    }
   ],
   "source": [
    "plot_dictionary(residue)"
   ]
  },
  {
   "cell_type": "code",
   "execution_count": 47,
   "metadata": {},
   "outputs": [],
   "source": [
    "#Calculating Energy\n",
    "\n",
    "def check_if_bonded(new_coordinate, original_residue_number):\n",
    "    if residue.get(original_residue_number+1) == new_coordinate or residue.get(original_residue_number-1) == new_coordinate:\n",
    "        return False\n",
    "    else:\n",
    "        return True\n",
    "\n",
    "\n",
    "def check_up(coordinates, residue_number):\n",
    "    x, y = coordinates\n",
    "    up_coordinate = [x, y+1]\n",
    "    if up_coordinate in residue.values():\n",
    "        return check_if_bonded(up_coordinate, residue_number)\n",
    "        \n",
    "def check_down(coordinates, residue_number):\n",
    "    x, y = coordinates\n",
    "    down_coordinate = [x, y-1]\n",
    "    if down_coordinate in residue.values():\n",
    "        return check_if_bonded(down_coordinate, residue_number)\n",
    "        \n",
    "def check_left(coordinates, residue_number):\n",
    "    x, y = coordinates\n",
    "    left_coordinate = [x-1, y]\n",
    "    if left_coordinate in residue.values():\n",
    "        return check_if_bonded(left_coordinate, residue_number)\n",
    "        \n",
    "def check_right(coordinates, residue_number):\n",
    "    x, y = coordinates\n",
    "    right_coordinate = [x+1, y]\n",
    "    if right_coordinate in residue.values():\n",
    "        return check_if_bonded(right_coordinate, residue_number)\n",
    "\n",
    "def residue_energy(residue):\n",
    "    residue_energy = 0\n",
    "    for i in range(len(residue)):\n",
    "        #print(i)\n",
    "        if check_up(residue[i], i) is True:\n",
    "            residue_energy += 1\n",
    "            #print(\"Up\")\n",
    "        if check_down(residue[i], i) is True:\n",
    "            residue_energy += 1\n",
    "            #print(\"down\")\n",
    "        if check_left(residue[i], i) is True:\n",
    "            residue_energy += 1\n",
    "            #print(\"left\")\n",
    "        if check_right(residue[i], i) is True:\n",
    "            residue_energy += 1\n",
    "            #print(\"right\")\n",
    "        \n",
    "    return residue_energy/2"
   ]
  },
  {
   "cell_type": "code",
   "execution_count": 48,
   "metadata": {},
   "outputs": [
    {
     "name": "stdout",
     "output_type": "stream",
     "text": [
      "9.0\n"
     ]
    }
   ],
   "source": [
    "print(residue_energy(residue))"
   ]
  },
  {
   "cell_type": "code",
   "execution_count": 25,
   "metadata": {},
   "outputs": [],
   "source": []
  },
  {
   "cell_type": "code",
   "execution_count": null,
   "metadata": {},
   "outputs": [],
   "source": []
  },
  {
   "cell_type": "code",
   "execution_count": null,
   "metadata": {},
   "outputs": [],
   "source": []
  },
  {
   "cell_type": "code",
   "execution_count": null,
   "metadata": {},
   "outputs": [],
   "source": []
  },
  {
   "cell_type": "code",
   "execution_count": null,
   "metadata": {},
   "outputs": [],
   "source": []
  }
 ],
 "metadata": {
  "kernelspec": {
   "display_name": "Python 3",
   "language": "python",
   "name": "python3"
  },
  "language_info": {
   "codemirror_mode": {
    "name": "ipython",
    "version": 3
   },
   "file_extension": ".py",
   "mimetype": "text/x-python",
   "name": "python",
   "nbconvert_exporter": "python",
   "pygments_lexer": "ipython3",
   "version": "3.8.3"
  }
 },
 "nbformat": 4,
 "nbformat_minor": 4
}
