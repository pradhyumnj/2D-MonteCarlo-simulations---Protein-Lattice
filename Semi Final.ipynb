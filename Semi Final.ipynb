{
 "cells": [
  {
   "cell_type": "markdown",
   "id": "damaged-worse",
   "metadata": {},
   "source": [
    "## Imports"
   ]
  },
  {
   "cell_type": "code",
   "execution_count": 1,
   "id": "advisory-philadelphia",
   "metadata": {
    "jupyter": {
     "source_hidden": true
    }
   },
   "outputs": [],
   "source": [
    "import numpy as np # Array manipulation\n",
    "import matplotlib.pyplot as plt #plotting\n",
    "import random #Generating random numbers\n",
    "import math #Getting the value of e\n",
    "import time #Testing purposes\n",
    "from tqdm import tqdm #For progress bar\n",
    "import seaborn as sns"
   ]
  },
  {
   "cell_type": "markdown",
   "id": "outstanding-reform",
   "metadata": {},
   "source": [
    "## Initializing Proteins (lines)"
   ]
  },
  {
   "cell_type": "code",
   "execution_count": 2,
   "id": "moral-recycling",
   "metadata": {
    "jupyter": {
     "source_hidden": true
    }
   },
   "outputs": [],
   "source": [
    "# l1, l2, l3, l4, l5 and l6 are dictionaries corresponding to corrdinates \n",
    "# of residues for that protien.\n",
    "# Keys(1,2,3,4) are used to keep track of the type of residue\n",
    "\n",
    "def reset():\n",
    "    \n",
    "    l1 = {\n",
    "        1 : [5,17],\n",
    "        2 : [5,18],\n",
    "        3 : [5,19],\n",
    "        4 : [5,20]\n",
    "    }\n",
    "\n",
    "    l2 = {\n",
    "        1 : [15,17],\n",
    "        2 : [15,18],\n",
    "        3 : [15,19],\n",
    "        4 : [15,20]\n",
    "    }\n",
    "\n",
    "    l3 = {\n",
    "        1 : [25,17],\n",
    "        2 : [25,18],\n",
    "        3 : [25,19],\n",
    "        4 : [25,20]\n",
    "    }\n",
    "\n",
    "    l4 = {\n",
    "        1 : [35,17],\n",
    "        2 : [35,18],\n",
    "        3 : [35,19],\n",
    "        4 : [35,20]\n",
    "    }\n",
    "\n",
    "    l5 = {\n",
    "        1 : [17,30],\n",
    "        2 : [18,30],\n",
    "        3 : [19,30],\n",
    "        4 : [20,30]\n",
    "    }\n",
    "\n",
    "    l6 = {\n",
    "        1 : [17,6],\n",
    "        2 : [18,6],\n",
    "        3 : [19,6],\n",
    "        4 : [20,6]\n",
    "    }\n",
    "\n",
    "    lines = { 1 : l1,\n",
    "              2 : l2,\n",
    "              3 : l3,\n",
    "              4 : l4,\n",
    "              5 : l5,\n",
    "              6 : l6}\n",
    "    return lines\n",
    "lines = reset()"
   ]
  },
  {
   "cell_type": "markdown",
   "id": "structured-plaza",
   "metadata": {},
   "source": [
    "## Find possible coordinates of the space for the residue to move into, and choosing one at random"
   ]
  },
  {
   "cell_type": "code",
   "execution_count": 3,
   "id": "neutral-sympathy",
   "metadata": {
    "jupyter": {
     "source_hidden": true
    }
   },
   "outputs": [],
   "source": [
    "# Alogrithm used:\n",
    "# 1. Choose a line and then a point from that line at random\n",
    "# 2. Check the position of that point. Positions 1,4 can undergo end moves; 2,3 can undergo corner moves.\n",
    "# 3a. For end moves, compute all points at a distance sqrt(2) from the chosen residue, check if that space is empty and if the bond distance is maintained\n",
    "# 3b. For corner moves, compute all points at a distance sqrt(2) from the chosen residue, check if that space is empty and if the bond distance is maintained\n",
    "# 3c. Store the availble spaces in an array\n",
    "# 4. Choose a point (var new_point) at random from the availble spaces, and return it. \n",
    "\n",
    "def choose_point(lines):\n",
    "    \n",
    "    line_pos = np.random.randint(1,7)   \n",
    "    rand_line = lines[line_pos]\n",
    "    point_pos = np.random.randint(1,5)\n",
    "    rand_point = rand_line[point_pos]\n",
    "    \n",
    "    current_points = [list(line.values()) for line in list(lines.values())]\n",
    "    current_points = [current_points[i][j] for i in range(6) for j in range(4)]\n",
    "\n",
    "\n",
    "    available_points = []\n",
    "    new_current_points = []\n",
    "    new_lines = {}\n",
    "    \n",
    "    if point_pos == 4:\n",
    "        available_points = [[rand_point[0] + 1,rand_point[1] + 1],\n",
    "                   [rand_point[0] - 1,rand_point[1] - 1],\n",
    "                   [rand_point[0] + 1,rand_point[1] - 1],\n",
    "                   [rand_point[0] - 1,rand_point[1] + 1]]\n",
    "        point3 = rand_line[3]\n",
    "        available_points = [point for point in available_points if (point not in current_points and (abs(sum((np.array(point3) - np.array(point))**2)) == 1) and (point[0]<40 and point[0]>0 and point[1]<40 and point[1]>0))]\n",
    "\n",
    "    if point_pos == 1:\n",
    "        available_points = [[rand_point[0] + 1,rand_point[1] + 1],\n",
    "                   [rand_point[0] - 1,rand_point[1] - 1],\n",
    "                   [rand_point[0] + 1,rand_point[1] - 1],\n",
    "                   [rand_point[0] - 1,rand_point[1] + 1]]\n",
    "        point2 = rand_line[2]\n",
    "        available_points = [point for point in available_points if (point not in current_points and (abs(sum((np.array(point2) - np.array(point))**2)) == 1) and (point[0]<40 and point[0]>0 and point[1]<40 and point[1]>0))]\n",
    "\n",
    "    if point_pos == 3: \n",
    "        available_points = [[rand_point[0] + 1,rand_point[1] + 1],\n",
    "                   [rand_point[0] - 1,rand_point[1] - 1],\n",
    "                   [rand_point[0] + 1,rand_point[1] - 1],\n",
    "                   [rand_point[0] - 1,rand_point[1] + 1]]\n",
    "        point2 = rand_line[2]\n",
    "        point4 = rand_line[4]\n",
    "        available_points = [point for point in available_points if (point not in current_points and (abs(sum((np.array(point2) - np.array(point))**2)) == 1) and (abs(sum((np.array(point4) - np.array(point))**2)) == 1) and (point[0]<40 and point[0]>0 and point[1]<40 and point[1]>0))]\n",
    "    if point_pos == 2:\n",
    "        available_points = [[rand_point[0] + 1,rand_point[1] + 1],\n",
    "                   [rand_point[0] - 1,rand_point[1] - 1],\n",
    "                   [rand_point[0] + 1,rand_point[1] - 1],\n",
    "                   [rand_point[0] - 1,rand_point[1] + 1]]\n",
    "        point3 = rand_line[3]\n",
    "        point1 = rand_line[1]\n",
    "        available_points = [point for point in available_points if (point not in current_points and (abs(sum((np.array(point3) - np.array(point))**2)) == 1) and (abs(sum((np.array(point1) - np.array(point))**2)) == 1) and (point[0]<40 and point[0]>0 and point[1]<40 and point[1]>0))]\n",
    "\n",
    "    if (available_points != []):\n",
    "        new_point = random.choice(available_points)\n",
    "        new_current_points = [i for i in current_points]\n",
    "        i = 4 * (line_pos - 1) + point_pos - 1\n",
    "        new_current_points[i] = new_point\n",
    "\n",
    "        new_point = random.choice(available_points)\n",
    "        new_current_points = [i for i in current_points]\n",
    "        i = 4 * (line_pos - 1) + point_pos - 1\n",
    "        new_current_points[i] = new_point\n",
    "\n",
    "        l1_new = {key + 1 : point for key,point in enumerate(new_current_points[:4]) }\n",
    "        l2_new = {key + 1 : point for key,point in enumerate(new_current_points[4:8]) }\n",
    "        l3_new = {key + 1 : point for key,point in enumerate(new_current_points[8:12]) }\n",
    "        l4_new = {key + 1 : point for key,point in enumerate(new_current_points[12:16]) }\n",
    "        l5_new = {key + 1 : point for key,point in enumerate(new_current_points[16:20]) }\n",
    "        l6_new = {key + 1 : point for key,point in enumerate(new_current_points[20:24]) }\n",
    "\n",
    "        new_lines = {1 : l1_new,\n",
    "                    2 : l2_new,\n",
    "                    3 : l3_new,\n",
    "                    4 : l4_new,\n",
    "                    5 : l5_new,\n",
    "                    6 : l6_new}\n",
    "    \n",
    "    return new_lines"
   ]
  },
  {
   "cell_type": "markdown",
   "id": "breeding-indian",
   "metadata": {},
   "source": [
    "## Calculate Energy"
   ]
  },
  {
   "cell_type": "markdown",
   "id": "measured-drinking",
   "metadata": {},
   "source": [
    "When A-A, B-B, C-C, D-D interatctions are allowed"
   ]
  },
  {
   "cell_type": "code",
   "execution_count": 4,
   "id": "junior-parameter",
   "metadata": {
    "jupyter": {
     "source_hidden": true
    }
   },
   "outputs": [],
   "source": [
    "# Algorithm:\n",
    "# 1. Find the pairwise distance between all A residues, all B residues and so on\n",
    "# 2. Count the number of instance where the above distance in 1, and divide it by 2 (as we are couting them twice)\n",
    "# 3. Multiply the above counter by a negative integer k, denoting the interaction energy between residues of the same kind\n",
    "\n",
    "def energy(lines,k):\n",
    "    A = [l[1] for l in lines.values()]\n",
    "    B = [l[2] for l in lines.values()]\n",
    "    C = [l[3] for l in lines.values()]\n",
    "    D = [l[4] for l in lines.values()]\n",
    "    energy = 0\n",
    "    for l in [A,B,C,D]:\n",
    "        energy += k*[(i[0] - j[0])**2 + (i[1] - j[1])**2 for i in l for j in l].count(1)\n",
    "\n",
    "    return energy/2\n",
    "    "
   ]
  },
  {
   "cell_type": "markdown",
   "id": "aquatic-delay",
   "metadata": {},
   "source": [
    "When any bead of one molecule can interract with any bead of another molecule"
   ]
  },
  {
   "cell_type": "code",
   "execution_count": 5,
   "id": "closed-gender",
   "metadata": {
    "jupyter": {
     "source_hidden": true
    }
   },
   "outputs": [],
   "source": [
    "def energy(lines,k):\n",
    "    \n",
    "    all_points = [list(line.values()) for line in list(lines.values())]\n",
    "    all_points = [all_points[i][j] for i in range(6) for j in range(4)]\n",
    "    \n",
    "    internal = [(lines[i][1][0] - lines[i][4][0])**2 + (lines[i][1][1] - lines[i][4][1])**2 for i in range(1,7)].count(1)\n",
    "    \n",
    "    energy = k*([(i[0] - j[0])**2 + (i[1] - j[1])**2 for i in all_points for j in all_points].count(1) - 36 - internal*2)\n",
    "    \n",
    "    return energy/2"
   ]
  },
  {
   "cell_type": "markdown",
   "id": "proved-governor",
   "metadata": {},
   "source": [
    "When A-A and B-B interactions are allowed"
   ]
  },
  {
   "cell_type": "code",
   "execution_count": 6,
   "id": "fatty-entrepreneur",
   "metadata": {
    "jupyter": {
     "source_hidden": true
    }
   },
   "outputs": [],
   "source": [
    "def energy(lines,k):\n",
    "    A = [l[1] for l in lines.values()]\n",
    "    B = [l[2] for l in lines.values()]\n",
    "    energy = 0\n",
    "    for l in [A,B]:\n",
    "        energy += k*[(i[0] - j[0])**2 + (i[1] - j[1])**2 for i in l for j in l].count(1)\n",
    "\n",
    "    return energy/2"
   ]
  },
  {
   "cell_type": "markdown",
   "id": "promising-journalist",
   "metadata": {},
   "source": [
    "## Choose new point using Metropolis criterieon"
   ]
  },
  {
   "cell_type": "code",
   "execution_count": 7,
   "id": "extended-rugby",
   "metadata": {
    "jupyter": {
     "source_hidden": true
    }
   },
   "outputs": [],
   "source": [
    "# Metropolis Algorithm\n",
    "# When w = 1, choose to stay put or switch to new position with equal probability\n",
    "# returns lines, which is a dictionary which conatines 6 lines, containing updated residue coordinates\n",
    "\n",
    "def metropolis(lines,k):\n",
    "    \n",
    "    \n",
    "    new_lines = choose_point(lines)\n",
    "    \n",
    "    Ei = energy(lines,k)\n",
    "    \n",
    "    if new_lines != {}:\n",
    "        Ef = energy(new_lines,k)\n",
    "\n",
    "        del_E = Ef - Ei\n",
    "        w = math.e**(-del_E)\n",
    "        if w > 1:\n",
    "            return new_lines, Ef\n",
    "        if w < 1:\n",
    "            r = random.random()\n",
    "            if w > r:\n",
    "                return new_lines, Ef\n",
    "            else: \n",
    "                return lines, Ei\n",
    "        if w == 1.0:\n",
    "            l = random.choice([lines,new_lines])\n",
    "            if l == new_lines:\n",
    "                return l, Ef\n",
    "            else:\n",
    "                return l, Ei\n",
    "        \n",
    "    else: \n",
    "        return lines, Ei"
   ]
  },
  {
   "cell_type": "markdown",
   "id": "attempted-batman",
   "metadata": {},
   "source": [
    "## Plotting"
   ]
  },
  {
   "cell_type": "code",
   "execution_count": 21,
   "id": "rocky-education",
   "metadata": {
    "collapsed": true,
    "jupyter": {
     "outputs_hidden": true,
     "source_hidden": true
    }
   },
   "outputs": [
    {
     "data": {
      "image/png": "[encoded data removed]",
      "text/plain": [
       "<Figure size 720x720 with 1 Axes>"
      ]
     },
     "metadata": {},
     "output_type": "display_data"
    }
   ],
   "source": [
    "#customizing figure and axes and setting up grid\n",
    "fig = plt.figure(figsize = (10,10))\n",
    "ax = plt.subplot(111, \n",
    "                 xlim = (0,40), ylim = (0,40), \n",
    "                 autoscale_on = False ,\n",
    "                 xticks = np.arange(0,40,1), yticks = np.arange(0,40,1))\n",
    "ax.grid()\n",
    "\n",
    "\n",
    "\n",
    "line1, = ax.plot([],[], '-k', lw = 1,)\n",
    "line2, = ax.plot([],[], '-k', lw = 1)\n",
    "line3, = ax.plot([],[], '-k', lw = 1) \n",
    "line4, = ax.plot([],[], '-k', lw = 1)\n",
    "line5, = ax.plot([],[], '-k', lw = 1)\n",
    "line6, = ax.plot([],[], '-k', lw = 1)\n",
    "\n",
    "ax.tick_params(axis = \"both\", which = \"both\",\n",
    "               bottom = False, left = False,\n",
    "              labelbottom = False, labelleft = False)\n",
    "\n",
    "p1, = ax.plot([],[], 'o',  color = 'red')\n",
    "p2, = ax.plot([],[], 'o',  color = 'sandybrown')\n",
    "p3, = ax.plot([],[], 'o',  color = 'yellowgreen') \n",
    "p4, = ax.plot([],[], 'o',  color = 'dodgerblue')\n",
    "\n",
    "\n",
    "#removing x and y tick labels\n",
    "ax.tick_params(axis = \"both\", which = \"both\",\n",
    "               bottom = False, left = False,\n",
    "              labelbottom = False, labelleft = False)\n",
    "plt.tight_layout()\n",
    "\n",
    "def animate(i,lines,k):\n",
    "    coordinates = []\n",
    "    for l in lines.values():\n",
    "        coordinates.append(list(l.values()))\n",
    "    x,y = np.array(coordinates).T\n",
    "    \n",
    "    \n",
    "    x,y = np.array(coordinates[0]).T\n",
    "    line1.set_data(x,y)\n",
    "    x,y = np.array(coordinates[1]).T\n",
    "    line2.set_data(x,y)\n",
    "    x,y = np.array(coordinates[2]).T\n",
    "    line3.set_data(x,y)\n",
    "    x,y = np.array(coordinates[3]).T\n",
    "    line4.set_data(x,y)\n",
    "    x,y = list(np.array(coordinates[4]).T)\n",
    "    line5.set_data(x,y)\n",
    "    x,y = list(np.array(coordinates[5]).T)\n",
    "    line6.set_data(x,y)\n",
    "    \n",
    "    A = [l[1] for l in lines.values()]\n",
    "    B = [l[2] for l in lines.values()]\n",
    "    C = [l[3] for l in lines.values()]\n",
    "    D = [l[4] for l in lines.values()]\n",
    "    \n",
    "    x,y = np.array(A).T\n",
    "    p1.set_data(x,y)\n",
    "    x,y = np.array(B).T\n",
    "    p2.set_data(x,y)\n",
    "    x,y = np.array(C).T\n",
    "    p3.set_data(x,y)\n",
    "    x,y = np.array(D).T\n",
    "    p4.set_data(x,y)\n",
    "    \n",
    "    ax.set_title(f'Moves = {i}     Energy = {energy(lines,k)}    Interaction Energy = {k}')\n",
    "    \n",
    "    return line1,line2,line3,line4, line5, line6"
   ]
  },
  {
   "cell_type": "markdown",
   "id": "illegal-newport",
   "metadata": {},
   "source": [
    "## Simulating"
   ]
  },
  {
   "cell_type": "code",
   "execution_count": 9,
   "id": "fabulous-smart",
   "metadata": {
    "jupyter": {
     "source_hidden": true
    }
   },
   "outputs": [],
   "source": [
    "def simulation(k, iterations):\n",
    "    lines  = reset()\n",
    "    Energies = []\n",
    "    for i in tqdm (range(iterations),\n",
    "                  desc = 'Progress',\n",
    "                  ascii = False, ncols = 75):\n",
    "        lines,e = metropolis(lines,k)\n",
    "        Energies.append(e)\n",
    "    animate(i+1,lines,k);\n",
    "    Energies = np.array(Energies)\n",
    "    p = sns.relplot(kind = 'line', data = Energies, color = 'red', aspect = 2)\n",
    "    p.set_axis_labels('Iterations', ' Energy')\n",
    "    lines = reset()"
   ]
  },
  {
   "cell_type": "code",
   "execution_count": 22,
   "id": "accompanied-video",
   "metadata": {},
   "outputs": [
    {
     "name": "stderr",
     "output_type": "stream",
     "text": [
      "Progress: 100%|██████████████████████████| 50/50 [00:00<00:00, 2124.75it/s]\n",
      "Progress: 100%|██████████████████████████| 50/50 [00:00<00:00, 4653.00it/s]\n",
      "Progress: 100%|██████████████████████████| 50/50 [00:00<00:00, 4606.59it/s]\n"
     ]
    }
   ],
   "source": [
    "for e in [-1, -3, -5]:\n",
    "    for iteration in range(1):\n",
    "        simulation(-e,10*5)\n",
    "        fig.savefig(f'/Users/Pradhyumn/Documents/Academics/Biophyscical Chem/ABAB/{e} lattice {iteration + 1}')\n",
    "        plt.savefig(f'/Users/Pradhyumn/Documents/Academics/Biophyscical Chem/ABAB/{e} graph {iteration + 1}',bbox_inches = 'tight', dpi = 300)\n",
    "        plt.close()"
   ]
  },
  {
   "cell_type": "markdown",
   "id": "through-appearance",
   "metadata": {},
   "source": [
    "## Run this only to reset the protein"
   ]
  },
  {
   "cell_type": "code",
   "execution_count": 11,
   "id": "unique-hostel",
   "metadata": {},
   "outputs": [],
   "source": [
    "# Avoid running this, it will make the iterations slower, this is just for visually resetting the lattice, the coordinates have already been resetted in the function: simulation\n",
    "animate(0,lines,-0);"
   ]
  },
  {
   "cell_type": "code",
   "execution_count": null,
   "id": "guilty-proceeding",
   "metadata": {},
   "outputs": [],
   "source": []
  }
 ],
 "metadata": {
  "kernelspec": {
   "display_name": "Python 3",
   "language": "python",
   "name": "python3"
  },
  "language_info": {
   "codemirror_mode": {
    "name": "ipython",
    "version": 3
   },
   "file_extension": ".py",
   "mimetype": "text/x-python",
   "name": "python",
   "nbconvert_exporter": "python",
   "pygments_lexer": "ipython3",
   "version": "3.8.8"
  }
 },
 "nbformat": 4,
 "nbformat_minor": 5
}
